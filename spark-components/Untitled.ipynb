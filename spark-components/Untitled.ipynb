{
 "cells": [
  {
   "cell_type": "code",
   "execution_count": 2,
   "id": "cbe0d689",
   "metadata": {},
   "outputs": [],
   "source": [
    "# Set environment variable for SPARK_HOME, HADOOP_HOME and include spark directory in PATH\n",
    "import os\n",
    "\n",
    "import findspark\n",
    "findspark.init()\n",
    "findspark.find()\n",
    "\n",
    "import json\n",
    "\n",
    "from pyspark import SparkContext, SparkConf\n",
    "from pyspark.sql import SparkSession, SQLContext\n",
    "from pyspark.sql import Window\n",
    "from pyspark.sql import functions as F\n",
    "from pyspark.sql.types import *\n",
    "\n",
    "spark = SparkSession.builder \\\n",
    "                    .appName(\"Spark Reader\") \\\n",
    "                    .config(\"spark.local.dir\", \"/opt/spark/spark-tmp\") \\\n",
    "                    .getOrCreate()"
   ]
  },
  {
   "cell_type": "code",
   "execution_count": 30,
   "id": "c9e340f8",
   "metadata": {},
   "outputs": [
    {
     "name": "stdout",
     "output_type": "stream",
     "text": [
      "+------+---------+-----------------------------+-----+-----+\n",
      "|offset|partition|timestamp                    |topic|value|\n",
      "+------+---------+-----------------------------+-----+-----+\n",
      "|0     |0        |2021-12-22T17:50:22.648+07:00|test |Haha |\n",
      "|1     |0        |2021-12-22T17:50:24.167+07:00|test |Hihi |\n",
      "|2     |0        |2021-12-22T17:50:26.939+07:00|test |1    |\n",
      "|3     |0        |2021-12-22T17:50:27.252+07:00|test |2    |\n",
      "|4     |0        |2021-12-22T17:50:27.667+07:00|test |3    |\n",
      "|5     |0        |2021-12-22T17:50:28.254+07:00|test |4    |\n",
      "|6     |0        |2021-12-22T17:50:29.445+07:00|test |5    |\n",
      "|7     |0        |2021-12-22T17:50:30.068+07:00|test |6    |\n",
      "|8     |0        |2021-12-22T17:50:30.542+07:00|test |7    |\n",
      "|9     |0        |2021-12-22T17:50:30.920+07:00|test |8    |\n",
      "|10    |0        |2021-12-22T17:50:31.404+07:00|test |9    |\n",
      "|11    |0        |2021-12-22T17:50:32.284+07:00|test |10   |\n",
      "|12    |0        |2021-12-22T17:51:10.963+07:00|test |11   |\n",
      "|13    |0        |2021-12-22T22:27:10.844+07:00|test |12   |\n",
      "|14    |0        |2021-12-22T22:27:11.898+07:00|test |13   |\n",
      "|15    |0        |2021-12-22T22:27:12.528+07:00|test |14   |\n",
      "|16    |0        |2021-12-22T22:27:13.029+07:00|test |15   |\n",
      "|17    |0        |2021-12-22T22:34:07.277+07:00|test |16   |\n",
      "|18    |0        |2021-12-22T22:34:07.897+07:00|test |17   |\n",
      "|19    |0        |2021-12-22T22:34:08.927+07:00|test |18   |\n",
      "|20    |0        |2021-12-22T22:34:10.165+07:00|test |19   |\n",
      "|21    |0        |2021-12-22T22:34:11.996+07:00|test |20   |\n",
      "|22    |0        |2021-12-23T09:56:52.288+07:00|test |21   |\n",
      "|23    |0        |2021-12-23T10:02:39.114+07:00|test |22   |\n",
      "|24    |0        |2021-12-23T10:02:39.831+07:00|test |23   |\n",
      "|25    |0        |2021-12-23T10:02:40.711+07:00|test |24   |\n",
      "|26    |0        |2021-12-23T10:03:37.057+07:00|test |25   |\n",
      "|27    |0        |2021-12-23T10:03:38.334+07:00|test |26   |\n",
      "|28    |0        |2021-12-23T15:02:58.840+07:00|test |27   |\n",
      "|29    |0        |2021-12-23T15:09:17.881+07:00|test |28   |\n",
      "|30    |0        |2021-12-23T15:09:19.140+07:00|test |29   |\n",
      "+------+---------+-----------------------------+-----+-----+\n",
      "\n"
     ]
    }
   ],
   "source": [
    "df = spark.read.json('./data/json/*.json')\n",
    "df.orderBy(F.col('offset')).show(100, False)"
   ]
  },
  {
   "cell_type": "code",
   "execution_count": null,
   "id": "72b669cb",
   "metadata": {},
   "outputs": [],
   "source": []
  }
 ],
 "metadata": {
  "kernelspec": {
   "display_name": "Python 3 (ipykernel)",
   "language": "python",
   "name": "python3"
  },
  "language_info": {
   "codemirror_mode": {
    "name": "ipython",
    "version": 3
   },
   "file_extension": ".py",
   "mimetype": "text/x-python",
   "name": "python",
   "nbconvert_exporter": "python",
   "pygments_lexer": "ipython3",
   "version": "3.7.12"
  }
 },
 "nbformat": 4,
 "nbformat_minor": 5
}
